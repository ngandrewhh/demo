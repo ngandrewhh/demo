{
 "cells": [
  {
   "cell_type": "code",
   "execution_count": null,
   "metadata": {
    "pycharm": {
     "name": "#%%\n"
    }
   },
   "outputs": [],
   "source": [
    "import pandas as pd\n",
    "import numpy as np\n",
    "from sklearn.linear_model import LinearRegression\n",
    "import matplotlib.pyplot as plt"
   ]
  },
  {
   "cell_type": "code",
   "execution_count": null,
   "metadata": {
    "pycharm": {
     "name": "#%%\n"
    }
   },
   "outputs": [],
   "source": [
    "ust = [\"US1MT=RR\", \"US3MT=RR\", \"US6MT=RR\", \"US1YT=RR\", \"US2YT=RR\", \"US5YT=RR\", \"US10YT=RR\", \"US30YT=RR\"]\n",
    "data_ust = pd.read_csv('UST_working.csv', index_col=0)\n",
    "data_ust_diff = data_ust.diff()\n",
    "data_ust_diff.index = pd.to_datetime(data_ust_diff.index)\n",
    "data_ust_diff = data_ust_diff.resample('W').last()"
   ]
  },
  {
   "cell_type": "code",
   "execution_count": null,
   "metadata": {
    "pycharm": {
     "name": "#%%\n"
    }
   },
   "outputs": [],
   "source": [
    "params = [(['US3MT', ], ['US6MT', ]), (['US3MT', 'US6MT' ], ['US1YT', ]), (['US3MT', 'US6MT', 'US1YT' ], ['US2YT', ]), (['US3MT', 'US6MT', 'US1YT', 'US2YT' ], ['US5YT', ])]\n",
    "\n",
    "for X_lab, y_lab in params:\n",
    "    print(f\"target: {y_lab[0]}\")\n",
    "    M = data_ust_diff.loc[:, X_lab + y_lab].dropna()\n",
    "    X, y = M.loc[:, X_lab], M.loc[:, y_lab]\n",
    "\n",
    "    lr = LinearRegression().fit(X, y)\n",
    "    print(f\"score: {lr.score(X, y)}\")\n",
    "    print(f\"coef: {lr.coef_}\\n\")"
   ]
  },
  {
   "cell_type": "code",
   "execution_count": null,
   "metadata": {
    "pycharm": {
     "name": "#%%\n"
    }
   },
   "outputs": [],
   "source": [
    "data_ust.loc[\"2020-01-01\":].US6MT.plot()"
   ]
  },
  {
   "cell_type": "code",
   "execution_count": null,
   "metadata": {
    "pycharm": {
     "name": "#%%\n"
    }
   },
   "outputs": [],
   "source": [
    "# get the mean hikes during intervals of rate hikes\n",
    "rate_hike_data = pd.concat([data_ust_diff.loc[\"2004-01-01\":\"2008-01-01\", :],\n",
    "                            data_ust_diff.loc[\"2016-01-01\":\"2019-01-01\", :],\n",
    "                            data_ust_diff.loc[\"2022-01-01\":, :]], axis=0)\n",
    "mu = rate_hike_data.mean()\n",
    "cv = data_ust_diff.iloc[-52 * 5:].cov() # 5y recent covariance\n",
    "res = []\n",
    "\n",
    "for i in range(5000):\n",
    "    if (i+1) % 100 == 0:\n",
    "        print(i+1)\n",
    "        # break\n",
    "    rng = np.random.default_rng()\n",
    "\n",
    "    # construct yield curve movement based on provided mu (mean hike) and covariance\n",
    "    sim_p1 = rng.multivariate_normal(2.5 * mu, cv, 45)\n",
    "    sim_p2 = rng.multivariate_normal(0.25 * mu, cv, 75)\n",
    "    sim_p3 = rng.multivariate_normal(-0.1 * mu, cv, 45)\n",
    "    sim_tot = pd.DataFrame(np.vstack([sim_p1, sim_p2, sim_p3]), columns=data_ust_diff.columns)\n",
    "    sim_tot.index = pd.date_range(data_ust_diff.index[-1]+pd.DateOffset(7), periods=len(sim_tot), freq='W')\n",
    "    sim_fut = (data_ust.iloc[-1] + sim_tot.cumsum())\n",
    "    res.append(sim_fut)"
   ]
  },
  {
   "cell_type": "code",
   "execution_count": null,
   "metadata": {
    "pycharm": {
     "name": "#%%\n"
    }
   },
   "outputs": [],
   "source": [
    "sim_by_col = [pd.concat([df.loc[:, col] for df in res], axis=1) for col in data_ust.columns]\n",
    "sim_by_col[1].iloc[:, :1000].plot(figsize=(8, 4.5), title='3 Month Rate Simulation')\n",
    "plt.gca().get_legend().remove()"
   ]
  },
  {
   "cell_type": "code",
   "execution_count": null,
   "metadata": {
    "pycharm": {
     "name": "#%%\n"
    }
   },
   "outputs": [],
   "source": [
    "q_tenor = {}\n",
    "for i, tenor in enumerate(data_ust_diff.columns):\n",
    "    q_tenor[tenor] = sim_by_col[i].quantile(q=[0.1, 0.25, 0.5, 0.75, 0.9], axis=1).T #.to_csv(f'./rates_sim_out/{tenor}.csv')"
   ]
  },
  {
   "cell_type": "code",
   "execution_count": null,
   "metadata": {
    "pycharm": {
     "name": "#%%\n"
    }
   },
   "outputs": [],
   "source": [
    "sim_q = {}\n",
    "for q in [0.1, 0.25, 0.5, 0.75, 0.9]:\n",
    "    df = pd.concat([q_tenor[tenor].loc[:, q] for i, tenor in enumerate(data_ust_diff.columns)], axis=1)\n",
    "    df.columns = data_ust_diff.columns\n",
    "    sim_q[int(q * 100)] = df\n",
    "    sim_q[int(q * 100)].to_csv(f\"./rates_sim_out/Q_{int(q*100):02d}.csv\")"
   ]
  },
  {
   "cell_type": "code",
   "execution_count": null,
   "metadata": {
    "pycharm": {
     "name": "#%%\n"
    }
   },
   "outputs": [],
   "source": [
    "data_ust.iloc[-1].plot()"
   ]
  },
  {
   "cell_type": "code",
   "execution_count": null,
   "metadata": {
    "pycharm": {
     "name": "#%%\n"
    }
   },
   "outputs": [],
   "source": [
    "for q in [10, 25, 50, 75, 90]:\n",
    "    tmp = sim_q[q].iloc[[0, 13, 26, 39, 52, 65, 78, 91, 104, 117, 130], :]\n",
    "    tmp.index = tmp.index.map(lambda x: x._date_repr)\n",
    "    tmp.T.plot(title=f\"simulated quantile at {q=}\", figsize=(8, 4.5))\n",
    "    plt.gca().legend(bbox_to_anchor=(1., 1.), loc='upper left')\n",
    "    plt.tight_layout()"
   ]
  },
  {
   "cell_type": "code",
   "execution_count": null,
   "metadata": {
    "pycharm": {
     "name": "#%%\n"
    }
   },
   "outputs": [],
   "source": [
    "from queue import PriorityQueue\n",
    "\n",
    "res_q = {}\n",
    "tenor_mapper = {13: 'US3MT', 26: 'US6MT', 52: 'US1YT', 104: 'US2YT'}\n",
    "q_list = [10, 25, 50, 75, 90]\n",
    "p_list = [13, 26, 52, 104]\n",
    "top_n = 100\n",
    "\n",
    "for q in q_list:\n",
    "    fron = PriorityQueue()\n",
    "    fron.put((0, ('2022-10-23', [])))\n",
    "    data = sim_q[q]\n",
    "    res, seen = [], []\n",
    "\n",
    "    print(f'** START Q={q}')\n",
    "    while fron.queue:\n",
    "        prio, (dt_from, path_taken) = fron.get()\n",
    "        data_sliced = data.loc[dt_from:, :]\n",
    "        yld = -prio\n",
    "        done = False\n",
    "\n",
    "        for p in p_list:\n",
    "            # print(f'** START P={p}')\n",
    "            if p > len(data_sliced):\n",
    "                if sum(path_taken) < 0.7 * len(data):\n",
    "                    continue\n",
    "\n",
    "                if path_taken not in seen:\n",
    "                    res.append((yld, np.round(yld / sum(path_taken) * len(data), 4), path_taken, sum(path_taken)))\n",
    "                    seen.append(path_taken)\n",
    "                    if top_n > 10:\n",
    "                        if len(res) % 10 == 0: print(f'**** FOUND RES #{len(res)} ON {dt_from}')\n",
    "\n",
    "                if len(res) >= top_n:\n",
    "                    done = True\n",
    "                    break\n",
    "                continue\n",
    "\n",
    "            yld_crv = data_sliced.iloc[p]\n",
    "            dt_new = yld_crv.name\n",
    "            yld_new = yld_crv.loc[tenor_mapper[p]]\n",
    "            fron.put((-np.round(yld + yld_new / 52 * p, 4), (dt_new._date_repr, path_taken + [p, ])))\n",
    "            # print(yld_new)\n",
    "            # print(fron.queue)\n",
    "\n",
    "        if done:\n",
    "            print(f'** DONE Q={q}')\n",
    "            break\n",
    "\n",
    "    res_q[q] = res"
   ]
  },
  {
   "cell_type": "code",
   "execution_count": null,
   "metadata": {
    "pycharm": {
     "name": "#%%\n"
    }
   },
   "outputs": [],
   "source": [
    "for q in q_list:\n",
    "    print(f'{q=}')\n",
    "    for _, norm_yld, path_taken, _ in sorted(res_q[q], key=lambda x: -x[1])[:10]:\n",
    "        print(f\"NORMALIZED YIELD={norm_yld}, PATH TAKEN={path_taken}\")"
   ]
  },
  {
   "cell_type": "markdown",
   "metadata": {
    "pycharm": {
     "name": "#%% md\n"
    }
   },
   "source": [
    "`q` denotes the average percentile in terms of the rate curve at a certain date.\n",
    "For `q=10`, a low 10-pctile rate hike environment, the optimal action indicated by `[52, 26, 26, 26]` would mean it is best to buy 1y (52-wks), then buy 6m (26-wks), 6m, 6m to capture the most yield."
   ]
  },
  {
   "cell_type": "code",
   "execution_count": null,
   "metadata": {
    "pycharm": {
     "name": "#%%\n"
    }
   },
   "outputs": [],
   "source": []
  }
 ],
 "metadata": {
  "kernelspec": {
   "display_name": "Python 3 (ipykernel)",
   "language": "python",
   "name": "python3"
  },
  "language_info": {
   "codemirror_mode": {
    "name": "ipython",
    "version": 3
   },
   "file_extension": ".py",
   "mimetype": "text/x-python",
   "name": "python",
   "nbconvert_exporter": "python",
   "pygments_lexer": "ipython3",
   "version": "3.10.6"
  }
 },
 "nbformat": 4,
 "nbformat_minor": 1
}
